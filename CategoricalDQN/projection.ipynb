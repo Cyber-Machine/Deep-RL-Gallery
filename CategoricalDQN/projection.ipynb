{
 "cells": [
  {
   "cell_type": "code",
   "execution_count": 1,
   "metadata": {},
   "outputs": [],
   "source": [
    "import numpy as np\n",
    "import seaborn as sns\n",
    "import matplotlib.pyplot as plt\n",
    "import japanize_matplotlib"
   ]
  },
  {
   "cell_type": "code",
   "execution_count": 115,
   "metadata": {},
   "outputs": [
    {
     "name": "stdout",
     "output_type": "stream",
     "text": [
      "N_atoms: 21\n",
      "Delta: 1.0\n",
      "[-10.  -9.  -8.  -7.  -6.  -5.  -4.  -3.  -2.  -1.   0.   1.   2.   3.\n",
      "   4.   5.   6.   7.   8.   9.  10.]\n"
     ]
    },
    {
     "data": {
      "text/plain": [
       "(-10, 10)"
      ]
     },
     "execution_count": 115,
     "metadata": {},
     "output_type": "execute_result"
    },
    {
     "data": {
      "image/png": "[encoded data removed]",
      "text/plain": [
       "<Figure size 432x288 with 1 Axes>"
      ]
     },
     "metadata": {
      "needs_background": "light"
     },
     "output_type": "display_data"
    },
    {
     "data": {
      "image/png": "[encoded data removed]",
      "text/plain": [
       "<Figure size 432x288 with 1 Axes>"
      ]
     },
     "metadata": {
      "needs_background": "light"
     },
     "output_type": "display_data"
    },
    {
     "data": {
      "image/png": "[encoded data removed]",
      "text/plain": [
       "<Figure size 432x288 with 1 Axes>"
      ]
     },
     "metadata": {
      "needs_background": "light"
     },
     "output_type": "display_data"
    }
   ],
   "source": [
    "V_min = -10\n",
    "V_max = 10\n",
    "sample_data = np.random.normal(0, 2, 100)\n",
    "\n",
    "\n",
    "\"\"\"準備：離散確率分布Zの作成\n",
    "\"\"\"\n",
    "n_atoms = 21\n",
    "Z = np.linspace(V_min, V_max, n_atoms)\n",
    "delta_z = (V_max - V_min) / (n_atoms - 1)\n",
    "print(\"N_atoms:\", n_atoms)\n",
    "print(f\"Delta:\", delta_z)\n",
    "print(atoms)\n",
    "\n",
    "dist = np.zeros(n_atoms)\n",
    "for d in sample_data:\n",
    "    idx = (d - V_min) / delta_z\n",
    "    lower_idx, upper_idx = np.floor(idx).astype(np.int8), np.ceil(idx).astype(np.int8)\n",
    "    #print(d, l, u)\n",
    "    #print(1-(d-l), 1-(u-d))\n",
    "    dist[lower_idx] += 1 - (idx - lower_idx)  \n",
    "    dist[upper_idx] += 1- (upper_idx - idx)\n",
    "\n",
    "plt.vlines(np.arange(-10, 11, 1)-0.5, ymin=0, ymax=0.3, color=\"gray\", alpha=0.6)\n",
    "plt.bar(Z, dist/dist.sum())\n",
    "plt.title(\"Z\")\n",
    "plt.xlim(-10,10)\n",
    "\n",
    "\"\"\"Zへのベルマンオペレータ適用とbinへの再割り当て\n",
    "    Z(t) = TZ(t) = r + γZ(t+1)\n",
    "\"\"\"\n",
    "reward = 3.4\n",
    "gamma = 0.9\n",
    "done = False\n",
    "TZ = reward + gamma * (1-done) * Z\n",
    "\n",
    "\n",
    "plt.figure()\n",
    "plt.vlines(np.arange(-10, 11, 1)-0.5, ymin=0, ymax=0.3, color=\"gray\", alpha=0.6)\n",
    "plt.bar(TZ, dist/dist.sum())\n",
    "plt.title(\"TZ= r + γZ\")\n",
    "plt.xlim(-10,10)\n",
    "\n",
    "tdist = np.zeros(n_atoms)\n",
    "for i in range(n_atoms):\n",
    "    idx = (TZ[i] - V_min) / delta_z\n",
    "    \n",
    "    lower_idx, upper_idx = np.floor(idx).astype(np.int8), np.ceil(idx).astype(np.int8)\n",
    "    \n",
    "    lower_idx = np.clip(lower_idx, 0, n_atoms-1)\n",
    "    upper_idx = np.clip(upper_idx, 0, n_atoms-1)\n",
    "    \n",
    "    lower_prob = (1 - (idx - lower_idx))\n",
    "    upper_prob = 1 - lower_prob\n",
    "    tdist[lower_idx] += lower_prob * dist[i]  \n",
    "    tdist[upper_idx] += upper_prob * dist[i]\n",
    "\n",
    "    #print(TZ[i], idx, dist[i])\n",
    "    #print(idx, lower_idx, upper_idx)\n",
    "    #print(lower_prob, upper_prob)\n",
    "    #print(lower_prob + upper_prob)\n",
    "    #print()\n",
    "    \n",
    "plt.figure()\n",
    "plt.vlines(np.arange(-10, 11, 1)-0.5, ymin=0, ymax=0.3, color=\"gray\", alpha=0.6)\n",
    "plt.bar(Z, tdist/tdist.sum())\n",
    "plt.title(\"TZ= r + γZ （再割り当て後）\")\n",
    "plt.xlim(-10,10)"
   ]
  },
  {
   "cell_type": "code",
   "execution_count": null,
   "metadata": {},
   "outputs": [],
   "source": []
  },
  {
   "cell_type": "code",
   "execution_count": null,
   "metadata": {},
   "outputs": [],
   "source": []
  },
  {
   "cell_type": "code",
   "execution_count": null,
   "metadata": {},
   "outputs": [],
   "source": []
  }
 ],
 "metadata": {
  "kernelspec": {
   "display_name": "Python 3",
   "language": "python",
   "name": "python3"
  },
  "language_info": {
   "codemirror_mode": {
    "name": "ipython",
    "version": 3
   },
   "file_extension": ".py",
   "mimetype": "text/x-python",
   "name": "python",
   "nbconvert_exporter": "python",
   "pygments_lexer": "ipython3",
   "version": "3.7.4"
  }
 },
 "nbformat": 4,
 "nbformat_minor": 4
}
