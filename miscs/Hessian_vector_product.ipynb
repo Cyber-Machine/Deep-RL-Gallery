{
 "cells": [
  {
   "cell_type": "code",
   "execution_count": 1,
   "metadata": {},
   "outputs": [],
   "source": [
    "import numpy as np\n",
    "import tensorflow as tf"
   ]
  },
  {
   "cell_type": "code",
   "execution_count": 2,
   "metadata": {},
   "outputs": [
    {
     "data": {
      "text/plain": [
       "'2.1.0'"
      ]
     },
     "execution_count": 2,
     "metadata": {},
     "output_type": "execute_result"
    }
   ],
   "source": [
    "tf.__version__"
   ]
  },
  {
   "cell_type": "code",
   "execution_count": 151,
   "metadata": {},
   "outputs": [
    {
     "name": "stdout",
     "output_type": "stream",
     "text": [
      "H\n",
      "[[6. 2.]\n",
      " [2. 2.]]\n",
      "\n",
      "Hv\n",
      "[[56.]\n",
      " [24.]]\n",
      "\n",
      "\n",
      "invH\n",
      "[[ 0.25       -0.25000003]\n",
      " [-0.25000003  0.75000006]]\n",
      "\n",
      "invH_g_product\n",
      "[[0.9999995]\n",
      " [5.0000005]]\n"
     ]
    }
   ],
   "source": [
    "\"\"\"\n",
    "愚直なHessian vector product積\n",
    "\"\"\"\n",
    "\n",
    "x = tf.Variable([1., 1.], dtype=tf.float32)\n",
    "vector = tf.convert_to_tensor([[8], [4]], dtype=tf.float32)\n",
    "\n",
    "\n",
    "with tf.GradientTape(persistent=True) as t2:\n",
    "    with tf.GradientTape() as t1:    \n",
    "        f = x[0]**3 + 2*x[0]*x[1] + x[1] ** 2 - x[0]\n",
    "    (fx, fy) = t1.gradient(f, x)\n",
    "\n",
    "fxx, fxy = t2.gradient(fx, x)\n",
    "fyx, fyy = t2.gradient(fy, x)\n",
    "H = tf.convert_to_tensor([[fxx, fxy], [fyx, fyy]])\n",
    "\n",
    "hessian_vector_product = tf.matmul(H, vector) \n",
    "\n",
    "\n",
    "invH = tf.linalg.inv(H)\n",
    "costgrad = tf.convert_to_tensor([[16], [12]], dtype=tf.float32)\n",
    "invH_grad_product = tf.matmul(invH, costgrad)\n",
    "\n",
    "del t2\n",
    "print(\"H\")\n",
    "print(H.numpy())\n",
    "print()\n",
    "print(\"Hv\")\n",
    "print(hessian_vector_product.numpy())\n",
    "print()\n",
    "print()\n",
    "print(\"invH\")\n",
    "print(invH.numpy())\n",
    "print()\n",
    "print(\"invH_g_product\")\n",
    "print(invH_grad_product.numpy())"
   ]
  },
  {
   "cell_type": "code",
   "execution_count": 150,
   "metadata": {},
   "outputs": [
    {
     "name": "stdout",
     "output_type": "stream",
     "text": [
      "Fast Hv\n",
      "[56. 24.]\n"
     ]
    }
   ],
   "source": [
    "\"\"\"賢いHv product\"\"\"\n",
    "\n",
    "x = tf.Variable([1., 1.], dtype=tf.float32)\n",
    "vector = tf.convert_to_tensor([[8], [4]], dtype=tf.float32)\n",
    "\n",
    "with tf.GradientTape() as t2:\n",
    "    with tf.GradientTape() as t1:    \n",
    "        f = x[0]**3 + 2*x[0]*x[1] + x[1] ** 2 - x[0]\n",
    "    grads = t1.gradient(f, x)\n",
    "    grads_vector_product = tf.reduce_sum([g*v for g, v in zip(grads, vector)])\n",
    "\n",
    "fast_hessian_vector_product = t2.gradient(grads_vector_product, x)\n",
    "print(\"Fast Hv\")\n",
    "print(fast_hessian_vector_product.numpy())"
   ]
  },
  {
   "cell_type": "markdown",
   "metadata": {},
   "source": [
    "## 演習\n",
    "\n",
    "共役勾配法でFgを計算する\n",
    "\n",
    "Fはfのhessian\n",
    "gは適当"
   ]
  },
  {
   "cell_type": "code",
   "execution_count": 23,
   "metadata": {},
   "outputs": [
    {
     "name": "stdout",
     "output_type": "stream",
     "text": [
      "愚直な計算結果： tf.Tensor(\n",
      "[[-0.5625]\n",
      " [ 6.5625]\n",
      " [ 3.    ]], shape=(3, 1), dtype=float32)\n",
      "\n",
      "CGによる近似： tf.Tensor(\n",
      "[[-0.56205505]\n",
      " [ 6.5587754 ]\n",
      " [ 2.9985006 ]], shape=(3, 1), dtype=float32)\n"
     ]
    }
   ],
   "source": [
    "import tensorflow as tf\n",
    "import numpy as np\n",
    "\n",
    "\n",
    "def invHg_stupid(theta, f, g):\n",
    "    \"\"\"\n",
    "    　愚直に計算する\n",
    "    \"\"\"\n",
    "    with tf.GradientTape(persistent=True) as t2:\n",
    "        with tf.GradientTape() as t1:    \n",
    "            ret = f(theta)\n",
    "        (f1, f2, f3) = t1.gradient(ret, theta)\n",
    "\n",
    "    f11, f12, f13 = t2.gradient(f1, theta)\n",
    "    f21, f22, f23 = t2.gradient(f2, theta)\n",
    "    f31, f32, f33 = t2.gradient(f3, theta)\n",
    "    H = tf.convert_to_tensor([[f11, f12, f13], [f21, f22, f23], [f31, f32, f33]])\n",
    "    \n",
    "    invF = tf.linalg.inv(H)\n",
    "    invFg = tf.matmul(invF, g) \n",
    "    \n",
    "    del t2\n",
    "    return invFg\n",
    "\n",
    "\n",
    "\n",
    "def invHg_CG(theta, f, b, iters=10):\n",
    "    \"\"\"共役勾配法による近似解\n",
    "    \"\"\"\n",
    "    @tf.function\n",
    "    def f_Ax(x):\n",
    "        \"\"\"\n",
    "            任意のｘに対してAxを計算して返す\n",
    "        \"\"\"\n",
    "        with tf.GradientTape() as t2:\n",
    "            with tf.GradientTape() as t1:    \n",
    "                ret = f(theta)\n",
    "            grads = t1.gradient(ret, theta)\n",
    "            grads_vector_product = tf.matmul(tf.reshape(grads, [1, -1]), x)\n",
    "            \n",
    "        hvp = tf.reshape(t2.gradient(grads_vector_product, theta), shape=[-1, 1])\n",
    "        \n",
    "        return hvp + x * 1e-3\n",
    "    \n",
    "    x = tf.zeros_like(b)\n",
    "    r = tf.identity(b)\n",
    "    p = tf.identity(r)\n",
    "    r_dot_r = tf.reduce_sum(r*r)\n",
    "    \n",
    "    for i in range(iters):\n",
    "        Ap = f_Ax(p)\n",
    "        v = r_dot_r / (tf.matmul(tf.transpose(p), Ap))\n",
    "        x += v*p\n",
    "        r -= v*Ap\n",
    "        new_r_dot_r = tf.reduce_sum(r*r)\n",
    "        mu = new_r_dot_r / r_dot_r\n",
    "        p = r + mu * p\n",
    "        r_dot_r = new_r_dot_r\n",
    "        if r_dot_r < 1e-10:\n",
    "            break\n",
    "    \n",
    "    return x\n",
    "\n",
    "\n",
    "\n",
    "def f(params):\n",
    "    return params[0]**3 + 2*params[0]*params[1] + params[1] ** 2 - params[0] + params[2] **2\n",
    "\n",
    "\n",
    "params = tf.Variable([3., 1., 5.], dtype=tf.float32)\n",
    "g = tf.convert_to_tensor([[3], [12], [6]], dtype=tf.float32)\n",
    "\n",
    "print(\"愚直な計算結果：\", invHg_stupid(params, f, g))\n",
    "print()\n",
    "print(\"CGによる近似：\", invHg_CG(params, f, g))\n",
    "\n",
    "\n",
    "\n",
    "\n"
   ]
  },
  {
   "cell_type": "code",
   "execution_count": null,
   "metadata": {},
   "outputs": [],
   "source": []
  },
  {
   "cell_type": "code",
   "execution_count": null,
   "metadata": {},
   "outputs": [],
   "source": []
  }
 ],
 "metadata": {
  "kernelspec": {
   "display_name": "Python 3",
   "language": "python",
   "name": "python3"
  },
  "language_info": {
   "codemirror_mode": {
    "name": "ipython",
    "version": 3
   },
   "file_extension": ".py",
   "mimetype": "text/x-python",
   "name": "python",
   "nbconvert_exporter": "python",
   "pygments_lexer": "ipython3",
   "version": "3.7.4"
  }
 },
 "nbformat": 4,
 "nbformat_minor": 4
}
